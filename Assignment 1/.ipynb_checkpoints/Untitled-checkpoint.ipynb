{
 "cells": [
  {
   "cell_type": "code",
   "execution_count": 158,
   "metadata": {},
   "outputs": [],
   "source": [
    "from bandit_env import bandit_env \n",
    "import numpy as np\n",
    "import random\n",
    "from collections import Counter"
   ]
  },
  {
   "cell_type": "code",
   "execution_count": 159,
   "metadata": {},
   "outputs": [
    {
     "name": "stdout",
     "output_type": "stream",
     "text": [
      "5\n",
      "[2.5, -3.5, 1.0, 5.0, -2.5]\n",
      "[0.33, 1.0, 0.66, 1.98, 1.65]\n"
     ]
    }
   ],
   "source": [
    "# np.random.seed(0)\n",
    "\n",
    "game = bandit_env([2.5, -3.5, 1.0, 5.0, -2.5], [0.33, 1.0, 0.66, 1.98, 1.65])\n",
    "print(game.n)\n",
    "print(game.r_mean)\n",
    "print(game.r_stddev)"
   ]
  },
  {
   "cell_type": "code",
   "execution_count": 160,
   "metadata": {},
   "outputs": [
    {
     "name": "stdout",
     "output_type": "stream",
     "text": [
      "[0, 0, 0, 0, 0]\n"
     ]
    }
   ],
   "source": [
    "steps = 1000\n",
    "expec = [0 for i in range(game.n)]\n",
    "print(expec)"
   ]
  },
  {
   "cell_type": "code",
   "execution_count": 161,
   "metadata": {},
   "outputs": [
    {
     "name": "stdout",
     "output_type": "stream",
     "text": [
      "HHYY:YIFDNLSHFIO:H\n",
      "HHYY:YIFDNLSHFIO:H\n",
      "HHYY:YIFDNLSHFIO:H\n",
      "HHYY:YIFDNLSHFIO:H\n",
      "HHYY:YIFDNLSHFIO:H\n",
      "HHYY:YIFDNLSHFIO:H\n",
      "HHYY:YIFDNLSHFIO:H\n",
      "HHYY:YIFDNLSHFIO:H\n",
      "HHYY:YIFDNLSHFIO:H\n",
      "HHYY:YIFDNLSHFIO:H\n",
      "HHYY:YIFDNLSHFIO:H\n",
      "HHYY:YIFDNLSHFIO:H\n",
      "HHYY:YIFDNLSHFIO:H\n",
      "HHYY:YIFDNLSHFIO:H\n",
      "HHYY:YIFDNLSHFIO:H\n",
      "HHYY:YIFDNLSHFIO:H\n",
      "HHYY:YIFDNLSHFIO:H\n",
      "HHYY:YIFDNLSHFIO:H\n",
      "HHYY:YIFDNLSHFIO:H\n",
      "HHYY:YIFDNLSHFIO:H\n",
      "HHYY:YIFDNLSHFIO:H\n",
      "HHYY:YIFDNLSHFIO:H\n",
      "HHYY:YIFDNLSHFIO:H\n",
      "HHYY:YIFDNLSHFIO:H\n",
      "HHYY:YIFDNLSHFIO:H\n",
      "HHYY:YIFDNLSHFIO:H\n",
      "HHYY:YIFDNLSHFIO:H\n",
      "HHYY:YIFDNLSHFIO:H\n",
      "HHYY:YIFDNLSHFIO:H\n",
      "HHYY:YIFDNLSHFIO:H\n",
      "HHYY:YIFDNLSHFIO:H\n",
      "HHYY:YIFDNLSHFIO:H\n",
      "HHYY:YIFDNLSHFIO:H\n",
      "HHYY:YIFDNLSHFIO:H\n",
      "HHYY:YIFDNLSHFIO:H\n",
      "HHYY:YIFDNLSHFIO:H\n",
      "HHYY:YIFDNLSHFIO:H\n",
      "HHYY:YIFDNLSHFIO:H\n",
      "HHYY:YIFDNLSHFIO:H\n",
      "HHYY:YIFDNLSHFIO:H\n",
      "HHYY:YIFDNLSHFIO:H\n",
      "HHYY:YIFDNLSHFIO:H\n",
      "HHYY:YIFDNLSHFIO:H\n",
      "HHYY:YIFDNLSHFIO:H\n",
      "HHYY:YIFDNLSHFIO:H\n",
      "HHYY:YIFDNLSHFIO:H\n",
      "HHYY:YIFDNLSHFIO:H\n",
      "HHYY:YIFDNLSHFIO:H\n",
      "HHYY:YIFDNLSHFIO:H\n"
     ]
    }
   ],
   "source": [
    "# np.random.seed(0)\n",
    "counter = [0, 0, 0, 0, 0]\n",
    "reward = 0\n",
    "epsilon = 1/16\n",
    "# print(expec)\n",
    "for i in range(steps):\n",
    "    decider = np.random.rand()\n",
    "#     print(decider)\n",
    "    if decider <= epsilon:\n",
    "#         index, prize = random.choice(enumerate(expec))\n",
    "        index = random.randint(0, game.n - 1)\n",
    "        prize = game.pull(index)\n",
    "        print('HHYY:YIFDNLSHFIO:H')\n",
    "        \n",
    "    else:\n",
    "#         index, prize = greedy_action(expec)\n",
    "        d = Counter(expec)\n",
    "        occur = d[max(expec)]\n",
    "#         print(expec)\n",
    "#         print(occur)\n",
    "#         if i == 15:\n",
    "#             break\n",
    "        if occur == 1:\n",
    "            index = np.argmax(expec)\n",
    "            prize = game.pull(index)\n",
    "        \n",
    "        else:\n",
    "#             indexes = list(np.where(np.array(expec) == max(expec)))\n",
    "            indexes = [k for k, l in enumerate(expec) if l == max(expec)]\n",
    "#             print(indexes)\n",
    "            index = random.choice(indexes)\n",
    "#             print(index)\n",
    "            prize = game.pull(int(index))\n",
    "    \n",
    "    counter[index] += 1\n",
    "    expec[index] = expec[index] + (prize - expec[index])/(counter[index])\n",
    "    \n",
    "    reward += prize"
   ]
  },
  {
   "cell_type": "code",
   "execution_count": 162,
   "metadata": {},
   "outputs": [
    {
     "data": {
      "text/plain": [
       "4.765338142651981"
      ]
     },
     "execution_count": 162,
     "metadata": {},
     "output_type": "execute_result"
    }
   ],
   "source": [
    "reward/1000"
   ]
  },
  {
   "cell_type": "code",
   "execution_count": 163,
   "metadata": {
    "scrolled": true
   },
   "outputs": [
    {
     "data": {
      "text/plain": [
       "[2.4427912919291646,\n",
       " -3.632808665365819,\n",
       " 1.0469956078893496,\n",
       " 5.0076787902608615,\n",
       " -1.6786628369365308]"
      ]
     },
     "execution_count": 163,
     "metadata": {},
     "output_type": "execute_result"
    }
   ],
   "source": [
    "expec"
   ]
  },
  {
   "cell_type": "code",
   "execution_count": 164,
   "metadata": {},
   "outputs": [
    {
     "data": {
      "text/plain": [
       "[17, 13, 10, 953, 7]"
      ]
     },
     "execution_count": 164,
     "metadata": {},
     "output_type": "execute_result"
    }
   ],
   "source": [
    "counter"
   ]
  },
  {
   "cell_type": "code",
   "execution_count": null,
   "metadata": {},
   "outputs": [],
   "source": []
  }
 ],
 "metadata": {
  "kernelspec": {
   "display_name": "Python 3",
   "language": "python",
   "name": "python3"
  },
  "language_info": {
   "codemirror_mode": {
    "name": "ipython",
    "version": 3
   },
   "file_extension": ".py",
   "mimetype": "text/x-python",
   "name": "python",
   "nbconvert_exporter": "python",
   "pygments_lexer": "ipython3",
   "version": "3.7.7"
  }
 },
 "nbformat": 4,
 "nbformat_minor": 4
}
