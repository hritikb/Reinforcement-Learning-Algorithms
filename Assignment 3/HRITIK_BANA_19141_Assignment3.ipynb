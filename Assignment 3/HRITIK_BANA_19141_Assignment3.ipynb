{
 "cells": [
  {
   "cell_type": "markdown",
   "metadata": {},
   "source": [
    "# Name: HRITIK BANA\n",
    "# Roll No.: 19141"
   ]
  },
  {
   "cell_type": "markdown",
   "metadata": {},
   "source": [
    "# Assignment 3 "
   ]
  },
  {
   "cell_type": "markdown",
   "metadata": {},
   "source": [
    "## Answer 1"
   ]
  },
  {
   "cell_type": "markdown",
   "metadata": {},
   "source": [
    "## (3) On Policy TD control (SARSA)"
   ]
  },
  {
   "cell_type": "code",
   "execution_count": 166,
   "metadata": {},
   "outputs": [],
   "source": [
    "import HRITIK_BANA_19141_warehouse\n",
    "import numpy as np\n",
    "import random\n",
    "import math\n",
    "import matplotlib.pyplot as plt"
   ]
  },
  {
   "cell_type": "code",
   "execution_count": 167,
   "metadata": {},
   "outputs": [],
   "source": [
    "env = HRITIK_BANA_19141_warehouse.WarehouseAgent()\n",
    "alpha = 0.85\n",
    "EPS = 0.92\n",
    "gamma = 0.95\n",
    "\n",
    "Q = {}\n",
    "xcoord = [i for i in range(7)]\n",
    "ycoord = [i for i in range(6)]\n",
    "\n",
    "actionSpace = ['UP', 'DOWN', 'LEFT', 'RIGHT']\n",
    "\n",
    "stateSpace = [] \n",
    "\n",
    "for i in xcoord:\n",
    "    for j in ycoord:\n",
    "        for action in actionSpace:\n",
    "            Q[((i, j), action)] = 0\n",
    "        stateSpace.append((i, j))"
   ]
  },
  {
   "cell_type": "code",
   "execution_count": 168,
   "metadata": {},
   "outputs": [],
   "source": [
    "def choose(state):\n",
    "    rand = np.random.random()\n",
    "    if rand < 1 - EPS:\n",
    "#         state = (x, y)\n",
    "        values = np.array([Q[(state, a)] for a in actionSpace])\n",
    "        best = np.random.choice(np.where(values == values.max())[0])\n",
    "        policy[state] = actionSpace[best]\n",
    "    else:\n",
    "        policy[state] = np.random.choice(actionSpace)\n",
    "    return policy[state]"
   ]
  },
  {
   "cell_type": "code",
   "execution_count": 170,
   "metadata": {},
   "outputs": [
    {
     "name": "stdout",
     "output_type": "stream",
     "text": [
      "\n",
      "\n",
      "Best selected policy : {(0, 0): 'RIGHT', (0, 1): 'LEFT', (0, 2): 'DOWN', (0, 3): 'LEFT', (0, 4): 'UP', (0, 5): 'DOWN', (1, 0): 'UP', (1, 1): 'RIGHT', (1, 2): 'DOWN', (1, 3): 'LEFT', (1, 4): 'DOWN', (1, 5): 'DOWN', (2, 0): 'RIGHT', (2, 1): 'DOWN', (2, 2): 'DOWN', (2, 3): 'UP', (2, 4): 'LEFT', (2, 5): 'DOWN', (3, 0): 'LEFT', (3, 1): 'UP', (3, 2): 'LEFT', (3, 3): 'RIGHT', (3, 4): 'DOWN', (3, 5): 'UP', (4, 0): 'RIGHT', (4, 1): 'UP', (4, 2): 'UP', (4, 3): 'LEFT', (4, 4): 'LEFT', (4, 5): 'RIGHT', (5, 0): 'LEFT', (5, 1): 'UP', (5, 2): 'LEFT', (5, 3): 'LEFT', (5, 4): 'UP', (5, 5): 'RIGHT', (6, 0): 'RIGHT', (6, 1): 'UP', (6, 2): 'RIGHT', (6, 3): 'DOWN', (6, 4): 'RIGHT', (6, 5): 'DOWN'}\n"
     ]
    }
   ],
   "source": [
    "policy = {}\n",
    "for state in stateSpace:\n",
    "    policy[state] = np.random.choice(actionSpace)\n",
    "\n",
    "numEpisodes = 1000\n",
    "for i in range(numEpisodes):\n",
    "    statesActionsReturns = []\n",
    "    memory = []\n",
    "    observation, box_observation = env.reset()\n",
    "    done = False\n",
    "    count_steps = 0\n",
    "    max_steps = 50\n",
    "    while not done:\n",
    "        if count_steps == max_steps:\n",
    "            break\n",
    "        count_steps += 1\n",
    "        action = choose(tuple(observation))\n",
    "        observation_, reward, done = env.step(action)\n",
    "        memory.append((observation[0], observation[1], action, reward))\n",
    "        observation = observation_\n",
    "    memory.append((observation[0], observation[1], action, reward))\n",
    "\n",
    "    last = True\n",
    "    for x, y, action, reward in reversed(memory):\n",
    "        if last:\n",
    "            last = False\n",
    "        else:\n",
    "            statesActionsReturns.append((x, y, action, reward))\n",
    "\n",
    "\n",
    "    statesActionsReturns.reverse()\n",
    "    statesActionsVisited = []\n",
    "\n",
    "\n",
    "    x0, y0, action0, reward0 = statesActionsReturns[0]    \n",
    "    sa = ((x0, y0), action0)\n",
    "\n",
    "    for x, y, action, reward in statesActionsReturns:\n",
    "        sa_ = ((x, y), action)\n",
    "        if sa_ not in statesActionsVisited:\n",
    "            Q[sa] += alpha * (reward + (gamma * Q[sa_]) - Q[sa])\n",
    "            sa = sa_\n",
    "            statesActionsVisited.append(sa)\n",
    "\n",
    "    if EPS - 1e-7 > 0:\n",
    "        EPS -= 1e-7\n",
    "    else:\n",
    "        EPS = 0\n",
    "    \n",
    "    eps_returns.append(np.array(statesActionsReturns)[:, 3].astype(np.float).mean())\n",
    "\n",
    "print('\\n')\n",
    "print(\"Best selected policy :\", policy)"
   ]
  },
  {
   "cell_type": "markdown",
   "metadata": {},
   "source": [
    "## (4) Off policy TD control (Q-Learning)"
   ]
  },
  {
   "cell_type": "code",
   "execution_count": 171,
   "metadata": {},
   "outputs": [],
   "source": [
    "env = HRITIK_BANA_19141_warehouse.WarehouseAgent()\n",
    "alpha = 0.85\n",
    "EPS = 0.92\n",
    "gamma = 0.95\n",
    "\n",
    "Q = {}\n",
    "xcoord = [i for i in range(7)]\n",
    "ycoord = [i for i in range(6)]\n",
    "\n",
    "actionSpace = ['UP', 'DOWN', 'LEFT', 'RIGHT']\n",
    "\n",
    "stateSpace = [] \n",
    "\n",
    "for i in xcoord:\n",
    "    for j in ycoord:\n",
    "        for action in actionSpace:\n",
    "            Q[((i, j), action)] = 0\n",
    "        stateSpace.append((i, j))"
   ]
  },
  {
   "cell_type": "code",
   "execution_count": 172,
   "metadata": {},
   "outputs": [],
   "source": [
    "def choose(state):\n",
    "    rand = np.random.random()\n",
    "    if rand < 1 - EPS:\n",
    "#         state = (x, y)\n",
    "        values = np.array([Q[(state, a)] for a in actionSpace])\n",
    "        best = np.random.choice(np.where(values == values.max())[0])\n",
    "        policy[state] = actionSpace[best]\n",
    "    else:\n",
    "        policy[state] = np.random.choice(actionSpace)\n",
    "    return policy[state]"
   ]
  },
  {
   "cell_type": "code",
   "execution_count": 173,
   "metadata": {},
   "outputs": [
    {
     "name": "stdout",
     "output_type": "stream",
     "text": [
      "\n",
      "\n",
      "Best selected policy : {(0, 0): 'LEFT', (0, 1): 'RIGHT', (0, 2): 'LEFT', (0, 3): 'RIGHT', (0, 4): 'UP', (0, 5): 'RIGHT', (1, 0): 'LEFT', (1, 1): 'RIGHT', (1, 2): 'DOWN', (1, 3): 'UP', (1, 4): 'RIGHT', (1, 5): 'RIGHT', (2, 0): 'RIGHT', (2, 1): 'UP', (2, 2): 'DOWN', (2, 3): 'RIGHT', (2, 4): 'DOWN', (2, 5): 'LEFT', (3, 0): 'LEFT', (3, 1): 'RIGHT', (3, 2): 'DOWN', (3, 3): 'LEFT', (3, 4): 'DOWN', (3, 5): 'DOWN', (4, 0): 'DOWN', (4, 1): 'RIGHT', (4, 2): 'DOWN', (4, 3): 'LEFT', (4, 4): 'LEFT', (4, 5): 'LEFT', (5, 0): 'LEFT', (5, 1): 'UP', (5, 2): 'LEFT', (5, 3): 'LEFT', (5, 4): 'UP', (5, 5): 'LEFT', (6, 0): 'RIGHT', (6, 1): 'LEFT', (6, 2): 'RIGHT', (6, 3): 'LEFT', (6, 4): 'DOWN', (6, 5): 'LEFT'}\n"
     ]
    }
   ],
   "source": [
    "policy = {}\n",
    "for state in stateSpace:\n",
    "    policy[state] = np.random.choice(actionSpace)\n",
    "eps_returns = []\n",
    "numEpisodes = 1000\n",
    "for i in range(numEpisodes):\n",
    "    statesActionsReturns = []\n",
    "    memory = []\n",
    "    observation, box_observation = env.reset()\n",
    "    done = False\n",
    "    count_steps = 0\n",
    "    max_steps = 100\n",
    "    while not done:\n",
    "        if count_steps == max_steps:\n",
    "            break\n",
    "        count_steps += 1\n",
    "        action = choose(tuple(observation))\n",
    "        observation_, reward, done = env.step(action)\n",
    "        memory.append((observation[0], observation[1], action, reward))\n",
    "        observation = observation_\n",
    "    memory.append((observation[0], observation[1], action, reward))\n",
    "    \n",
    "    \n",
    "    last = True\n",
    "    for x, y, action, reward in reversed(memory):\n",
    "        if last:\n",
    "            last = False\n",
    "        else:\n",
    "            statesActionsReturns.append((x, y, action, reward))\n",
    "\n",
    "\n",
    "    statesActionsReturns.reverse()\n",
    "    statesActionsVisited = []\n",
    "\n",
    "\n",
    "    x0, y0, action0, reward0 = statesActionsReturns[0]    \n",
    "    sa = ((x0, y0), action0)\n",
    "\n",
    "    for x, y, action, reward in statesActionsReturns:\n",
    "        try:\n",
    "            \n",
    "            values = np.array([Q[((x,y), a)] for a in actionSpace])\n",
    "            a_ = np.where(values == values.max())[0][0]\n",
    "            sa_ = ((x,y), a_)\n",
    "            if sa_ not in statesActionsVisited:\n",
    "                Q[sa] += alpha * (reward + (gamma * Q[sa_]) - Q[sa])\n",
    "                sa = sa_\n",
    "                statesActionsVisited.append(sa)            \n",
    "        except:\n",
    "            pass\n",
    "        \n",
    "    if EPS - 1e-7 > 0:\n",
    "        EPS -= 1e-7\n",
    "    else:\n",
    "        EPS = 0\n",
    "    eps_returns.append(np.array(statesActionsReturns)[:, 3].astype(np.float).mean())\n",
    "\n",
    "print('\\n')\n",
    "print(\"Best selected policy :\", policy)"
   ]
  },
  {
   "cell_type": "code",
   "execution_count": 174,
   "metadata": {},
   "outputs": [
    {
     "data": {
      "text/plain": [
       "[<matplotlib.lines.Line2D at 0x20c1a1501c8>]"
      ]
     },
     "execution_count": 174,
     "metadata": {},
     "output_type": "execute_result"
    },
    {
     "data": {
      "image/png": "[encoded data removed]",
      "text/plain": [
       "<Figure size 432x288 with 1 Axes>"
      ]
     },
     "metadata": {
      "needs_background": "light"
     },
     "output_type": "display_data"
    }
   ],
   "source": [
    "x = [i for i in range(numEpisodes)]\n",
    "\n",
    "plt.plot(x, eps_returns)"
   ]
  },
  {
   "cell_type": "markdown",
   "metadata": {},
   "source": [
    "## (1) On Policy Monte Carlo"
   ]
  },
  {
   "cell_type": "code",
   "execution_count": 175,
   "metadata": {},
   "outputs": [],
   "source": [
    "env = HRITIK_BANA_19141_warehouse.WarehouseAgent()\n",
    "EPS = 0.05\n",
    "GAMMA = 1.0\n",
    "\n",
    "Q = {}\n",
    "\n",
    "xcoord = [i for i in range(7)]\n",
    "\n",
    "ycoord = [i for i in range(6)]\n",
    "\n",
    "actionSpace = ['UP', 'DOWN', 'LEFT', 'RIGHT']"
   ]
  },
  {
   "cell_type": "code",
   "execution_count": 176,
   "metadata": {},
   "outputs": [],
   "source": [
    "stateSpace = []\n",
    "returns = {}\n",
    "pairsVisited = {}\n",
    "\n",
    "\n",
    "for i in xcoord:\n",
    "    for j in ycoord:\n",
    "        for action in actionSpace:\n",
    "            Q[((i, j), action)] = 0\n",
    "            returns[((i, j), action)] = 0\n",
    "            pairsVisited[((i, j), action)] = 0\n",
    "        stateSpace.append((i, j))\n",
    "\n",
    "\n",
    "policy = {}\n",
    "for state in stateSpace:\n",
    "    policy[state] = np.random.choice(actionSpace)"
   ]
  },
  {
   "cell_type": "code",
   "execution_count": 177,
   "metadata": {},
   "outputs": [
    {
     "name": "stdout",
     "output_type": "stream",
     "text": [
      "\n",
      "\n",
      "Best selected policy : {(0, 0): 'UP', (0, 1): 'RIGHT', (0, 2): 'RIGHT', (0, 3): 'DOWN', (0, 4): 'UP', (0, 5): 'UP', (1, 0): 'DOWN', (1, 1): 'DOWN', (1, 2): 'DOWN', (1, 3): 'DOWN', (1, 4): 'DOWN', (1, 5): 'DOWN', (2, 0): 'LEFT', (2, 1): 'RIGHT', (2, 2): 'RIGHT', (2, 3): 'LEFT', (2, 4): 'UP', (2, 5): 'UP', (3, 0): 'RIGHT', (3, 1): 'RIGHT', (3, 2): 'UP', (3, 3): 'UP', (3, 4): 'UP', (3, 5): 'LEFT', (4, 0): 'UP', (4, 1): 'UP', (4, 2): 'DOWN', (4, 3): 'DOWN', (4, 4): 'UP', (4, 5): 'DOWN', (5, 0): 'RIGHT', (5, 1): 'LEFT', (5, 2): 'DOWN', (5, 3): 'UP', (5, 4): 'RIGHT', (5, 5): 'RIGHT', (6, 0): 'RIGHT', (6, 1): 'RIGHT', (6, 2): 'DOWN', (6, 3): 'LEFT', (6, 4): 'LEFT', (6, 5): 'UP'}\n"
     ]
    }
   ],
   "source": [
    "numEpisodes = 1000\n",
    "for i in range(numEpisodes):\n",
    "    statesActionsReturns = []\n",
    "    memory = []\n",
    "    observation, box_observation = env.reset()\n",
    "    done = False\n",
    "    count_steps = 0\n",
    "    max_steps = 50\n",
    "    while not done:\n",
    "        if count_steps == max_steps:\n",
    "            break\n",
    "        count_steps += 1\n",
    "        action = policy[tuple(observation)]\n",
    "        observation_, reward, done = env.step(action)\n",
    "        memory.append((observation[0], observation[1], action, reward))\n",
    "        observation = observation_\n",
    "    memory.append((observation[0], observation[1], action, reward))\n",
    "\n",
    "    G = 0\n",
    "    last = True\n",
    "    for x, y, action, reward in reversed(memory):\n",
    "        if last:\n",
    "            last = False\n",
    "        else:\n",
    "            statesActionsReturns.append((x, y, action, G))\n",
    "        G = GAMMA*G + reward\n",
    "\n",
    "\n",
    "    statesActionsReturns.reverse()\n",
    "    statesActionsVisited = []\n",
    "\n",
    "\n",
    "    for x, y, action, G in statesActionsReturns:\n",
    "        sa = ((x, y), action)\n",
    "        if sa not in statesActionsVisited:\n",
    "            pairsVisited[sa] += 1\n",
    "\n",
    "            returns[(sa)] += (1 / pairsVisited[(sa)])*(G-returns[(sa)])\n",
    "            Q[sa] = returns[sa]\n",
    "            rand = np.random.random()\n",
    "            if rand < 1 - EPS:\n",
    "                state = (x, y)\n",
    "                values = np.array([Q[(state, a)] for a in actionSpace])\n",
    "                best = np.random.choice(np.where(values == values.max())[0])\n",
    "                policy[state] = actionSpace[best]\n",
    "            else:\n",
    "                policy[state] = np.random.choice(actionSpace)\n",
    "            statesActionsVisited.append(sa)\n",
    "\n",
    "    if EPS - 1e-7 > 0:\n",
    "        EPS -= 1e-7\n",
    "    else:\n",
    "        EPS = 0\n",
    "\n",
    "print('\\n')\n",
    "print(\"Best selected policy :\", policy)\n"
   ]
  },
  {
   "cell_type": "markdown",
   "metadata": {},
   "source": [
    "## (2) Off-policy Monte Carlo"
   ]
  },
  {
   "cell_type": "code",
   "execution_count": 180,
   "metadata": {},
   "outputs": [
    {
     "name": "stdout",
     "output_type": "stream",
     "text": [
      "\n",
      "\n",
      "Best policy : {(0, 0): 'UP', (0, 1): 'UP', (0, 2): 'UP', (0, 3): 'UP', (0, 4): 'UP', (0, 5): 'RIGHT', (1, 0): 'UP', (1, 1): 'LEFT', (1, 2): 'LEFT', (1, 3): 'UP', (1, 4): 'DOWN', (1, 5): 'LEFT', (2, 0): 'DOWN', (2, 1): 'RIGHT', (2, 2): 'DOWN', (2, 3): 'UP', (2, 4): 'DOWN', (2, 5): 'LEFT', (3, 0): 'LEFT', (3, 1): 'LEFT', (3, 2): 'RIGHT', (3, 3): 'RIGHT', (3, 4): 'UP', (3, 5): 'UP', (4, 0): 'RIGHT', (4, 1): 'RIGHT', (4, 2): 'LEFT', (4, 3): 'LEFT', (4, 4): 'DOWN', (4, 5): 'UP', (5, 0): 'UP', (5, 1): 'LEFT', (5, 2): 'UP', (5, 3): 'LEFT', (5, 4): 'UP', (5, 5): 'DOWN', (6, 0): 'UP', (6, 1): 'RIGHT', (6, 2): 'DOWN', (6, 3): 'LEFT', (6, 4): 'LEFT', (6, 5): 'UP'}\n"
     ]
    }
   ],
   "source": [
    "env = HRITIK_BANA_19141_warehouse.WarehouseAgent()\n",
    "EPS = 0.05\n",
    "GAMMA = 1.0\n",
    "\n",
    "\n",
    "xcoord = [i for i in range(7)]\n",
    "\n",
    "ycoord = [i for i in range(6)]\n",
    "\n",
    "actionSpace = ['UP', 'DOWN', 'LEFT', 'RIGHT']\n",
    "\n",
    "stateSpace = []\n",
    "returns = {}\n",
    "pairsVisited = {}\n",
    "\n",
    "Q = {}\n",
    "C = {}\n",
    "for i in xcoord:\n",
    "    for j in ycoord:\n",
    "        for action in actionSpace:\n",
    "            Q[((i, j), action)] = 0\n",
    "            C[((i, j), action)] = 0\n",
    "        stateSpace.append((i, j))\n",
    "\n",
    "\n",
    "targetPolicy = {}\n",
    "for state in stateSpace:\n",
    "    values = np.array([Q[(state, a)] for a in actionSpace])\n",
    "    best = np.random.choice(np.where(values==values.max())[0])\n",
    "    targetPolicy[state] = actionSpace[best]\n",
    "\n",
    "\n",
    "\n",
    "\n",
    "numEpisodes = 1000\n",
    "for i in range(numEpisodes):\n",
    "    memory = []\n",
    "    behaviourPolicy = {}\n",
    "    for state in stateSpace:\n",
    "        rand = np.random.random()\n",
    "        if rand < 1 - EPS:\n",
    "            behaviourPolicy[state] = [targetPolicy[state]]\n",
    "        else:\n",
    "            behaviourPolicy[state] = actionSpace\n",
    "\n",
    "    observation, box_observation = env.reset()\n",
    "    done = False\n",
    "    count_steps = 0\n",
    "    max_steps = 1000\n",
    "    while not done:\n",
    "        if count_steps == max_steps:\n",
    "            break\n",
    "        count_steps += 1\n",
    "        action = np.random.choice(behaviourPolicy[tuple(observation)])\n",
    "        observation_, reward, done = env.step(action)\n",
    "        memory.append((observation[0], observation[1], action, reward))\n",
    "        observation = observation_\n",
    "    memory.append((observation[0], observation[1], action, reward))\n",
    "\n",
    "    G = 0\n",
    "    W = 1\n",
    "    last = True\n",
    "    for x, y, action, reward in reversed(memory):\n",
    "        sa = ((x,y), action)\n",
    "        if last:\n",
    "            last = False\n",
    "        else:\n",
    "            C[sa] += W\n",
    "            Q[sa] += (W / C[sa])*(G - Q[sa])\n",
    "            values = np.array([Q[(state, a)] for a in actionSpace])\n",
    "            best = np.random.choice(np.where(values == values.max())[0])\n",
    "            targetPolicy[state] = actionSpace[best]\n",
    "            if action != targetPolicy[state]:\n",
    "                break\n",
    "            if len(behaviourPolicy[state]) == 1:\n",
    "                prob = 1 - EPS\n",
    "            else:\n",
    "                prob = EPS / len(behaviourPolicy[state])\n",
    "            W *= 1/prob\n",
    "        G = GAMMA*G + reward\n",
    "   \n",
    "    if EPS - 1e-7 > 0:\n",
    "        EPS -= 1e-7\n",
    "    else:\n",
    "        EPS = 0\n",
    "\n",
    "\n",
    "\n",
    "print('\\n')\n",
    "print(\"Best policy :\", targetPolicy)"
   ]
  },
  {
   "cell_type": "markdown",
   "metadata": {},
   "source": [
    "## Answer 2"
   ]
  },
  {
   "cell_type": "markdown",
   "metadata": {},
   "source": [
    "On starting with the given initial conditions, the agent should ideally follow a path like: DOWN, DOWN, RIGHT, RIGHT, DOWN, LEFT, LEFT, DOWN, LEFT, UP. Looking at the best policy obtained by different methods, SARSA and Q-Learning, mostly follow the above path in the corresponding agent locations. So it seems that SARSA and Q-Learning are performing the best with respect to this problem."
   ]
  },
  {
   "cell_type": "code",
   "execution_count": null,
   "metadata": {},
   "outputs": [],
   "source": []
  }
 ],
 "metadata": {
  "kernelspec": {
   "display_name": "Python 3",
   "language": "python",
   "name": "python3"
  },
  "language_info": {
   "codemirror_mode": {
    "name": "ipython",
    "version": 3
   },
   "file_extension": ".py",
   "mimetype": "text/x-python",
   "name": "python",
   "nbconvert_exporter": "python",
   "pygments_lexer": "ipython3",
   "version": "3.7.7"
  }
 },
 "nbformat": 4,
 "nbformat_minor": 4
}
