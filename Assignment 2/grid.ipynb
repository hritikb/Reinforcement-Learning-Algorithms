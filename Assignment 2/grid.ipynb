{
 "cells": [
  {
   "cell_type": "code",
   "execution_count": 11,
   "metadata": {},
   "outputs": [],
   "source": [
    "\"\"\"\n",
    "Definition of the Warehouse Agent environment\n",
    "\"\"\"\n",
    "\n",
    "class WarehouseAgent():\n",
    "    def __init__(self):\n",
    "        \"\"\"\n",
    "        Initializing the environment\n",
    "        \"\"\"\n",
    "        self.GRID_DIM = [6,7]\n",
    "\n",
    "        self.agent_position = [1,2]\n",
    "\n",
    "        self.box_location = [4,3]\n",
    "        self.goal_location = [3,1]\n",
    "        self.matrix = [[-1, -1, -1, -1, -1, -1], [-1, 0, 1, -1, -1, -1], [-1, 0, 0, -1, -1, -1], [-1, 3, 0, 0, 0, -1], [-1, 0, 0, 2, 0, -1], [-1, 0, 0, -1, -1, -1], [-1, -1, -1, -1, -1, -1]]\n",
    "        self.valid_states = [[2, 1], [2, 2], [3, 1], [3, 2], [3, 3], [4, 1], [4, 2], [4, 3]]\n",
    "\n",
    "    def reset(self):\n",
    "        \"\"\"Function to reset the environment at the end of each episode to its initial state configuration\n",
    "\n",
    "        Returns:\n",
    "            state: the state of the environment reset to its initial conditions\n",
    "        \"\"\"\n",
    "        self.agent_position = [1,2]\n",
    "\n",
    "        self.box_location = [4,3]\n",
    "\n",
    "        self.matrix = [[-1, -1, -1, -1, -1, -1], [-1, 0, 1, -1, -1, -1], [-1, 0, 0, -1, -1, -1], [-1, 3, 0, 0, 0, -1], [-1, 0, 0, 2, 0, -1], [-1, 0, 0, -1, -1, -1], [-1, -1, -1, -1, -1, -1]]\n",
    "\n",
    "        # we will return a tuple containing the coordinates of the agent and box respectively\n",
    "        return self.agent_position,  self.box_location\n",
    "    \n",
    "    def step(self, action):\n",
    "        \"\"\"Function to control and evaluate the agents' action\n",
    "\n",
    "        Args:\n",
    "            action: pass on the action which the agent needs to take at that time step\n",
    "            action_space: ['UP', 'DOWN', 'LEFT', 'RIGHT']\n",
    "\n",
    "        Returns:\n",
    "            new_state: the new state agent reaches after taking the action\n",
    "            reward: the reward obtained on taking the action\n",
    "            done: boolean value to determine if episode terminating condition is reached\n",
    "        \"\"\"\n",
    "        done = False\n",
    "        if action == 'LEFT':\n",
    "            if self.matrix[self.agent_position[0]][self.agent_position[1] - 1] == -1:\n",
    "                reward = -1\n",
    "\n",
    "            elif self.matrix[self.agent_position[0]][self.agent_position[1] - 1] == 2 and self.matrix[self.agent_position[0]][self.agent_position[1] - 2] == -1:\n",
    "                reward = -1\n",
    "\n",
    "            elif self.matrix[self.agent_position[0]][self.agent_position[1] - 1] == 2:\n",
    "\n",
    "                self.matrix[self.agent_position[0]][self.agent_position[1] - 1] = 1\n",
    "                self.matrix[self.agent_position[0]][self.agent_position[1]] = 0\n",
    "                self.matrix[self.agent_position[0]][self.agent_position[1] - 2] = 2\n",
    "\n",
    "                self.box_location[1] = self.box_location[1] - 1\n",
    "                self.agent_position[1] = self.agent_position[1] - 1\n",
    "\n",
    "            else:\n",
    "                self.matrix[self.agent_position[0]][self.agent_position[1] - 1] = 1\n",
    "                self.matrix[self.agent_position[0]][self.agent_position[1]] = 0\n",
    "                self.agent_position[1] = self.agent_position[1] - 1\n",
    "\n",
    "        elif action == 'RIGHT':\n",
    "            \n",
    "#             print(self.agent_position[0])\n",
    "            if self.matrix[self.agent_position[0]][self.agent_position[1] + 1] == -1:\n",
    "                reward = -1\n",
    "\n",
    "            elif self.matrix[self.agent_position[0]][self.agent_position[1] + 1] == 2 and self.matrix[self.agent_position[0]][self.agent_position[1] + 2] == -1:\n",
    "                reward = -1\n",
    "\n",
    "            elif self.matrix[self.agent_position[0]][self.agent_position[1] + 1] == 2:\n",
    "\n",
    "                self.matrix[self.agent_position[0]][self.agent_position[1] + 1] = 1\n",
    "                self.matrix[self.agent_position[0]][self.agent_position[1]] = 0\n",
    "                self.matrix[self.agent_position[0]][self.agent_position[1] + 2] = 2\n",
    "\n",
    "                self.box_location[1] = self.box_location[1] + 1\n",
    "                self.agent_position[1] = self.agent_position[1] + 1\n",
    "\n",
    "            else:\n",
    "                self.matrix[self.agent_position[0]][self.agent_position[1] + 1] = 1\n",
    "                self.matrix[self.agent_position[0]][self.agent_position[1]] = 0\n",
    "                self.agent_position[1] = self.agent_position[1] + 1\n",
    "\n",
    "        elif action == 'UP':\n",
    "            \n",
    "            if self.matrix[self.agent_position[0] - 1][self.agent_position[1]] == -1:\n",
    "                reward = -1\n",
    "\n",
    "            elif self.matrix[self.agent_position[0] - 1][self.agent_position[1]] == 2 and self.matrix[self.agent_position[0] - 2][self.agent_position[1]] == -1:\n",
    "                reward = -1\n",
    "\n",
    "            elif self.matrix[self.agent_position[0] - 1][self.agent_position[1]] == 2:\n",
    "\n",
    "                self.matrix[self.agent_position[0] - 1][self.agent_position[1]] = 1\n",
    "                self.matrix[self.agent_position[0]][self.agent_position[1]] = 0\n",
    "                self.matrix[self.agent_position[0] - 2][self.agent_position[1]] = 2\n",
    "\n",
    "                self.box_location[0] = self.box_location[0] - 1\n",
    "                self.agent_position[0] = self.agent_position[0] - 1\n",
    "\n",
    "            else:\n",
    "                self.matrix[self.agent_position[0] - 1][self.agent_position[1]] = 1\n",
    "                self.matrix[self.agent_position[0]][self.agent_position[1]] = 0\n",
    "                self.agent_position[0] = self.agent_position[0] - 1\n",
    "\n",
    "        elif action == 'DOWN':\n",
    "            \n",
    "            if self.matrix[self.agent_position[0] + 1][self.agent_position[1]] == -1:\n",
    "                reward = -1\n",
    "\n",
    "            elif self.matrix[self.agent_position[0] + 1][self.agent_position[1]] == 2 and self.matrix[self.agent_position[0] + 2][self.agent_position[1]] == -1:\n",
    "                reward = -1\n",
    "\n",
    "            elif self.matrix[self.agent_position[0] + 1][self.agent_position[1]] == 2:\n",
    "\n",
    "                self.matrix[self.agent_position[0] + 1][self.agent_position[1]] = 1\n",
    "                self.matrix[self.agent_position[0]][self.agent_position[1]] = 0\n",
    "                self.matrix[self.agent_position[0] + 2][self.agent_position[1]] = 2\n",
    "\n",
    "                self.box_location[0] = self.box_location[0] + 1\n",
    "                self.agent_position[0] = self.agent_position[0] + 1\n",
    "\n",
    "            else:\n",
    "                self.matrix[self.agent_position[0] + 1][self.agent_position[1]] = 1\n",
    "                self.matrix[self.agent_position[0]][self.agent_position[1]] = 0\n",
    "                self.agent_position[0] = self.agent_position[0] + 1\n",
    "\n",
    "\n",
    "        if self.box_location == self.goal_location:\n",
    "            reward = 1\n",
    "            done = True\n",
    "        elif self.box_location not in self.valid_states:\n",
    "            done = True\n",
    "            reward = -1\n",
    "            print(self.agent_position)\n",
    "\n",
    "        else:\n",
    "            reward = -1\n",
    "\n",
    "        return self.agent_position, reward, done\n",
    "    \n",
    "    def render(self):\n",
    "        \"\"\"Function to get the simulation of the warehouse agent system \n",
    "        \"\"\"\n",
    "        print(self.matrix)"
   ]
  },
  {
   "cell_type": "code",
   "execution_count": null,
   "metadata": {},
   "outputs": [],
   "source": []
  },
  {
   "cell_type": "code",
   "execution_count": 12,
   "metadata": {},
   "outputs": [
    {
     "name": "stdout",
     "output_type": "stream",
     "text": [
      "[[-1, -1, -1, -1, -1, -1], [-1, 0, 1, -1, -1, -1], [-1, 0, 0, -1, -1, -1], [-1, 3, 0, 0, 0, -1], [-1, 0, 0, 2, 0, -1], [-1, 0, 0, -1, -1, -1], [-1, -1, -1, -1, -1, -1]]\n"
     ]
    }
   ],
   "source": [
    "env = WarehouseAgent()\n",
    "\n",
    "env.render()\n",
    "\n",
    "\n"
   ]
  },
  {
   "cell_type": "code",
   "execution_count": 13,
   "metadata": {},
   "outputs": [
    {
     "name": "stdout",
     "output_type": "stream",
     "text": [
      "([2, 2], -1, False)\n",
      "[[-1, -1, -1, -1, -1, -1], [-1, 0, 0, -1, -1, -1], [-1, 0, 1, -1, -1, -1], [-1, 3, 0, 0, 0, -1], [-1, 0, 0, 2, 0, -1], [-1, 0, 0, -1, -1, -1], [-1, -1, -1, -1, -1, -1]]\n"
     ]
    }
   ],
   "source": [
    "first = env.step('DOWN')\n",
    "print(first)\n",
    "env.render()"
   ]
  },
  {
   "cell_type": "code",
   "execution_count": 8,
   "metadata": {},
   "outputs": [
    {
     "name": "stdout",
     "output_type": "stream",
     "text": [
      "3\n",
      "3\n"
     ]
    }
   ],
   "source": [
    "sec = env.step('DOWN')\n",
    "th = env.step('RIGHT')\n",
    "fou = env.step('RIGHT')\n",
    "fif = env.step('DOWN')\n",
    "six = env.step('LEFT')\n",
    "sev = env.step('LEFT')\n",
    "eig = env.step('DOWN')\n",
    "nin = env.step('LEFT')\n",
    "ten = env.step('UP')"
   ]
  },
  {
   "cell_type": "code",
   "execution_count": 9,
   "metadata": {},
   "outputs": [
    {
     "name": "stdout",
     "output_type": "stream",
     "text": [
      "([4, 1], 1, True)\n"
     ]
    }
   ],
   "source": [
    "print(ten)"
   ]
  },
  {
   "cell_type": "code",
   "execution_count": 10,
   "metadata": {},
   "outputs": [
    {
     "name": "stdout",
     "output_type": "stream",
     "text": [
      "[[-1, -1, -1, -1, -1, -1], [-1, 0, 0, -1, -1, -1], [-1, 0, 0, -1, -1, -1], [-1, 2, 0, 0, 0, -1], [-1, 1, 0, 0, 0, -1], [-1, 0, 0, -1, -1, -1], [-1, -1, -1, -1, -1, -1]]\n"
     ]
    }
   ],
   "source": [
    "env.render()"
   ]
  },
  {
   "cell_type": "code",
   "execution_count": 14,
   "metadata": {},
   "outputs": [
    {
     "name": "stdout",
     "output_type": "stream",
     "text": [
      "[4, 3]\n"
     ]
    }
   ],
   "source": [
    "sec = env.step('DOWN')\n",
    "th = env.step('DOWN')\n",
    "fou = env.step('RIGHT')"
   ]
  },
  {
   "cell_type": "code",
   "execution_count": 15,
   "metadata": {},
   "outputs": [
    {
     "name": "stdout",
     "output_type": "stream",
     "text": [
      "([4, 3], -1, True)\n"
     ]
    }
   ],
   "source": [
    "print(fou)"
   ]
  },
  {
   "cell_type": "code",
   "execution_count": 16,
   "metadata": {},
   "outputs": [
    {
     "name": "stdout",
     "output_type": "stream",
     "text": [
      "[[-1, -1, -1, -1, -1, -1], [-1, 0, 0, -1, -1, -1], [-1, 0, 0, -1, -1, -1], [-1, 3, 0, 0, 0, -1], [-1, 0, 0, 1, 2, -1], [-1, 0, 0, -1, -1, -1], [-1, -1, -1, -1, -1, -1]]\n"
     ]
    }
   ],
   "source": [
    "env.render()"
   ]
  },
  {
   "cell_type": "code",
   "execution_count": null,
   "metadata": {},
   "outputs": [],
   "source": []
  }
 ],
 "metadata": {
  "kernelspec": {
   "display_name": "Python 3",
   "language": "python",
   "name": "python3"
  },
  "language_info": {
   "codemirror_mode": {
    "name": "ipython",
    "version": 3
   },
   "file_extension": ".py",
   "mimetype": "text/x-python",
   "name": "python",
   "nbconvert_exporter": "python",
   "pygments_lexer": "ipython3",
   "version": "3.7.7"
  }
 },
 "nbformat": 4,
 "nbformat_minor": 4
}
